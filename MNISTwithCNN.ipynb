{
 "cells": [
  {
   "cell_type": "code",
   "execution_count": 1,
   "metadata": {},
   "outputs": [],
   "source": [
    "import tensorflow as tf\n",
    "import matplotlib.pyplot as plt\n",
    "%matplotlib inline\n",
    "from tensorflow.examples.tutorials.mnist import input_data"
   ]
  },
  {
   "cell_type": "code",
   "execution_count": 2,
   "metadata": {},
   "outputs": [
    {
     "name": "stdout",
     "output_type": "stream",
     "text": [
      "Extracting MNIST_data/train-images-idx3-ubyte.gz\n",
      "Extracting MNIST_data/train-labels-idx1-ubyte.gz\n",
      "Extracting MNIST_data/t10k-images-idx3-ubyte.gz\n",
      "Extracting MNIST_data/t10k-labels-idx1-ubyte.gz\n"
     ]
    }
   ],
   "source": [
    "# Fetching data \n",
    "input_data = input_data.read_data_sets('MNIST_data/',one_hot= True)"
   ]
  },
  {
   "cell_type": "code",
   "execution_count": 3,
   "metadata": {},
   "outputs": [],
   "source": [
    "# Helper Functions\n",
    "\n",
    "    #init Weights\n",
    "def init_weights(shape):\n",
    "    init_random_distribution = tf.truncated_normal(shape=shape,stddev=0.1) \n",
    "    return tf.Variable(init_random_distribution)\n",
    "\n",
    "    #init Bias\n",
    "def init_bias(shape):\n",
    "    init_bias_vals = tf.constant(0.1,shape=shape)\n",
    "    return tf.Variable(init_bias_vals)\n",
    "\n",
    "    #return a 2d convolution\n",
    "def conv2d(x,W):\n",
    "    # x --> Input tensor [batch ,Height,width,channels]\n",
    "    # W --> Kernel [Filter Height,Filter WIdth , channels, channels_out]\n",
    "    return tf.nn.conv2d(x,W,strides=[1,1,1,1],padding='SAME')\n",
    "\n",
    "    #pooling helper function\n",
    "def max_pooling_2by2(x):\n",
    "    # x --> Input tensor [batch ,Height,width,channels]\n",
    "    return tf.nn.max_pool(x,ksize=[1,2,2,1],strides=[1,2,2,1],padding='SAME')\n",
    "\n",
    "    # Convolutional Layer\n",
    "def convolutional_layer(input_x,shape):\n",
    "    W = init_weights(shape)\n",
    "    b = init_bias([shape[3]])\n",
    "    return tf.nn.relu(conv2d(input_x,W) + b )\n",
    "\n",
    "    # Fully Connected Layer\n",
    "def normal_full_layer(input_layer,size):\n",
    "    input_size = int(input_layer.get_shape()[1])\n",
    "    W = init_weights([input_size,size])\n",
    "    b = init_bias([size])\n",
    "    return tf.matmul(input_layer,W) + b"
   ]
  },
  {
   "cell_type": "code",
   "execution_count": 4,
   "metadata": {},
   "outputs": [],
   "source": [
    "# #Steps : \n",
    "# 0. Data Preprocessing\n",
    "# 1. Placeholders\n",
    "# 2. Layers\n",
    "# 2. Variables\n",
    "# 3. Graph operations\n",
    "# 4. Loss function\n",
    "# 5. Optimizer\n",
    "# 6. Session"
   ]
  },
  {
   "cell_type": "code",
   "execution_count": 5,
   "metadata": {},
   "outputs": [],
   "source": [
    "# Data Preprocessing"
   ]
  },
  {
   "cell_type": "code",
   "execution_count": 6,
   "metadata": {},
   "outputs": [],
   "source": [
    "# Placeholders\n",
    "x = tf.placeholder(tf.float32,shape=[None,784])\n",
    "y_true = tf.placeholder(tf.float32,shape=[None,10])"
   ]
  },
  {
   "cell_type": "code",
   "execution_count": 7,
   "metadata": {},
   "outputs": [],
   "source": [
    "# Layers\n",
    "x_image = tf.reshape(x,[-1,28,28,1]) # recreate the original image , 28 by 28 , one channel\n",
    "convo_1  = convolutional_layer(x_image,shape=[5,5,1,32]) # 32 feautures for 5by5 batch , 1 is the nu of channels\n",
    "convo_1_pooling = max_pooling_2by2(convo_1)\n",
    "# we stack the layers , something worth mentioning , is that the 32 feautures as output of convo_1 are translated \n",
    "# to a 32 channel input on the second convo layer . Lastly , we produce a 64 feauture output\n",
    "convo_2  = convolutional_layer(convo_1_pooling,shape = [5,5,32,64]) \n",
    "convo_2_pooling = max_pooling_2by2(convo_2)\n",
    "# image size is 7 by 7 , 64 is the output of convo_2\n",
    "convo_2_flat = tf.reshape(convo_2_pooling,shape=[-1,7*7*64])\n",
    "# 1024 is the number of neurons we will create\n",
    "normal_full_connected = normal_full_layer(convo_2_flat,1024)\n",
    "\n",
    "full_layer_1  = tf.nn.relu(normal_full_connected)\n",
    "  \n",
    "    # Drop Out Layer\n",
    "hold_prob = tf.placeholder(tf.float32)\n",
    "full_one_dropout = tf.nn.dropout(full_layer_1,keep_prob=hold_prob)\n",
    "\n",
    "y_pred = normal_full_layer(full_one_dropout,10)"
   ]
  },
  {
   "cell_type": "code",
   "execution_count": 8,
   "metadata": {},
   "outputs": [
    {
     "name": "stdout",
     "output_type": "stream",
     "text": [
      "WARNING:tensorflow:From <ipython-input-8-b2a48f2115bf>:3: softmax_cross_entropy_with_logits (from tensorflow.python.ops.nn_ops) is deprecated and will be removed in a future version.\n",
      "Instructions for updating:\n",
      "\n",
      "Future major versions of TensorFlow will allow gradients to flow\n",
      "into the labels input on backprop by default.\n",
      "\n",
      "See tf.nn.softmax_cross_entropy_with_logits_v2.\n",
      "\n"
     ]
    }
   ],
   "source": [
    "# Loss functions\n",
    "\n",
    "cross_entropy = tf.reduce_mean(tf.nn.softmax_cross_entropy_with_logits(labels=y_true,logits=y_pred))\n"
   ]
  },
  {
   "cell_type": "code",
   "execution_count": 9,
   "metadata": {},
   "outputs": [],
   "source": [
    "# Optimizer\n",
    "\n",
    "optimizer = tf.train.AdamOptimizer(learning_rate=0.001 )\n",
    "train     = optimizer.minimize(cross_entropy)"
   ]
  },
  {
   "cell_type": "code",
   "execution_count": 14,
   "metadata": {},
   "outputs": [
    {
     "name": "stdout",
     "output_type": "stream",
     "text": [
      "0\n",
      "100\n",
      "200\n",
      "300\n",
      "400\n",
      "499\n",
      "Accuracy: \n",
      "0.9333999967575073\n",
      "\n",
      "\n"
     ]
    }
   ],
   "source": [
    "# Session\n",
    "\n",
    "init = tf.global_variables_initializer()\n",
    "steps = 500\n",
    "\n",
    "with tf.Session() as sess:\n",
    "    sess.run(init)\n",
    "    for i in range(steps):\n",
    "        batch_x , batch_y = input_data.train.next_batch(batch_size=5)\n",
    "        sess.run(train,feed_dict = {x : batch_x,y_true : batch_y , hold_prob : 0.5})\n",
    "        \n",
    "        if i % 100 == 0 or i == 499:\n",
    "            print(i)\n",
    "    accuracy = 0\n",
    "    test_batch_size = 50  \n",
    "    test_steps = int(len(input_data.test.images)/test_batch_size)\n",
    "    for i in range(test_steps):\n",
    "        batch_x_test , batch_y_test = input_data.test.next_batch(batch_size=test_batch_size)\n",
    "        matches = tf.equal(tf.argmax(y_true,1),tf.argmax(y_pred,1))\n",
    "        acc = tf.reduce_mean(tf.cast(matches,tf.float32))\n",
    "        #dict_to_feed = {x:input_data.test.images[:50],y_true:input_data.test.labels[:50],hold_prob : 1.0}\n",
    "        # code below will take hours to run , code above presents a sample    \n",
    "        dict_to_feed = {x:batch_x_test,y_true:batch_y_test,hold_prob : 1.0}\n",
    "        accuracy += sess.run(acc,feed_dict=dict_to_feed)\n",
    "    print(\"Accuracy: \")\n",
    "    print(accuracy / (len(input_data.test.images)/test_batch_size))\n",
    "    print('\\n')        "
   ]
  },
  {
   "cell_type": "code",
   "execution_count": 11,
   "metadata": {},
   "outputs": [
    {
     "data": {
      "text/plain": [
       "10000"
      ]
     },
     "execution_count": 11,
     "metadata": {},
     "output_type": "execute_result"
    }
   ],
   "source": []
  },
  {
   "cell_type": "code",
   "execution_count": null,
   "metadata": {},
   "outputs": [],
   "source": []
  }
 ],
 "metadata": {
  "kernelspec": {
   "display_name": "Python 3",
   "language": "python",
   "name": "python3"
  },
  "language_info": {
   "codemirror_mode": {
    "name": "ipython",
    "version": 3
   },
   "file_extension": ".py",
   "mimetype": "text/x-python",
   "name": "python",
   "nbconvert_exporter": "python",
   "pygments_lexer": "ipython3",
   "version": "3.5.2"
  },
  "varInspector": {
   "cols": {
    "lenName": 16,
    "lenType": 16,
    "lenVar": 40
   },
   "kernels_config": {
    "python": {
     "delete_cmd_postfix": "",
     "delete_cmd_prefix": "del ",
     "library": "var_list.py",
     "varRefreshCmd": "print(var_dic_list())"
    },
    "r": {
     "delete_cmd_postfix": ") ",
     "delete_cmd_prefix": "rm(",
     "library": "var_list.r",
     "varRefreshCmd": "cat(var_dic_list()) "
    }
   },
   "types_to_exclude": [
    "module",
    "function",
    "builtin_function_or_method",
    "instance",
    "_Feature"
   ],
   "window_display": false
  }
 },
 "nbformat": 4,
 "nbformat_minor": 2
}
